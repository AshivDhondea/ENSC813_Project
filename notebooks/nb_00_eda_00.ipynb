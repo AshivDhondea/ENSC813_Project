{
 "cells": [
  {
   "cell_type": "markdown",
   "metadata": {},
   "source": [
    "## ENSC 813 Project\n",
    "\n",
    "# Classifying car images in the TCC dataset\n",
    "\n",
    "## Ashiv Hans Dhondea (301400489)\n",
    "\n",
    "### Spring 2020. Simon Fraser University"
   ]
  },
  {
   "cell_type": "markdown",
   "metadata": {},
   "source": [
    "### Exploratory Data Analysis\n",
    "\n",
    "This notebook is based on *main_00_eda_00.py* which you can find [here](https://github.com/AshivDhondea/ENSC813_Project/blob/master/scripts/main_00_eda_00.py).\n",
    "\n",
    "Creates an excel file listing the names of images employed in this project for reproducibility purposes.\n",
    "\n",
    "Uses the excel file to select files from the original raw dataset to be included in this project."
   ]
  },
  {
   "cell_type": "code",
   "execution_count": 1,
   "metadata": {},
   "outputs": [],
   "source": [
    "# Import the necessary packages\n",
    "\n",
    "#  glob and os to navigate directories\n",
    "#import numpy as np    \n",
    "import xlsxwriter\n",
    "import glob\n",
    "import os\n",
    "import sys"
   ]
  },
  {
   "cell_type": "markdown",
   "metadata": {},
   "source": [
    "All figures (*.png* or *.pdf*), Excel worksheets (*.xlsx*), results tables (*.tex*) created in this project are named according to the script which created them. This is done to avoid confusion and to help future users to reproduce simulation results. "
   ]
  },
  {
   "cell_type": "code",
   "execution_count": 2,
   "metadata": {},
   "outputs": [
    {
     "data": {
      "application/javascript": [
       "IPython.notebook.kernel.execute(`notebookName = '${IPython.notebook.notebook_name}'`);"
      ],
      "text/plain": [
       "<IPython.core.display.Javascript object>"
      ]
     },
     "metadata": {},
     "output_type": "display_data"
    }
   ],
   "source": [
    "%%javascript\n",
    "IPython.notebook.kernel.execute(`notebookName = '${IPython.notebook.notebook_name}'`);"
   ]
  },
  {
   "cell_type": "code",
   "execution_count": 3,
   "metadata": {},
   "outputs": [
    {
     "name": "stdout",
     "output_type": "stream",
     "text": [
      "nb_00_eda_00.ipynb\n"
     ]
    }
   ],
   "source": [
    "print(notebookName)"
   ]
  },
  {
   "cell_type": "code",
   "execution_count": 4,
   "metadata": {},
   "outputs": [
    {
     "name": "stdout",
     "output_type": "stream",
     "text": [
      "The full name is nb_00_eda_00_\n"
     ]
    }
   ],
   "source": [
    "# Sort out utilities for file naming\n",
    "# for Jupyter notebook:\n",
    "# https://stackoverflow.com/questions/52691468/can-a-jupyter-notebook-find-its-own-filename\n",
    "script_name = notebookName[:-6];\n",
    "full_name = script_name+'_';\n",
    "print('The full name is %s' %full_name);\n",
    "# All files created by this script will be named according to this:"
   ]
  },
  {
   "cell_type": "code",
   "execution_count": 5,
   "metadata": {},
   "outputs": [
    {
     "name": "stdout",
     "output_type": "stream",
     "text": [
      "Available classes in the dataset are: \n",
      "['Audi', 'BMW', 'Honda', 'Lexus', 'Mercedes-Benz', 'Toyota']\n"
     ]
    }
   ],
   "source": [
    "# Explore the directory\n",
    "path_base = 'TCC_dataset/'\n",
    "print('Available classes in the dataset are: ');\n",
    "classes_list = os.listdir(path_base)\n",
    "print(classes_list);"
   ]
  },
  {
   "cell_type": "markdown",
   "metadata": {},
   "source": [
    "We create an Excel worksheet to save the names of all images in this dataset. This will help us later on when we run ConvNets."
   ]
  },
  {
   "cell_type": "code",
   "execution_count": 6,
   "metadata": {},
   "outputs": [
    {
     "name": "stdout",
     "output_type": "stream",
     "text": [
      "Processing images for class Audi\n",
      "Processing images for class BMW\n",
      "Processing images for class Honda\n",
      "Processing images for class Lexus\n",
      "Processing images for class Mercedes-Benz\n",
      "Processing images for class Toyota\n"
     ]
    }
   ],
   "source": [
    "# Load the dataset\n",
    "# file type of interest\n",
    "file_extension = \"jpg\";\n",
    "\n",
    "# Create list of file names and store them in an excel worksheet for later \n",
    "# reference\n",
    "workbook = xlsxwriter.Workbook(full_name+\"files_list.xlsx\");\n",
    "\n",
    "for i in range(0,len(classes_list)):\n",
    "    worksheet_name = classes_list[i];\n",
    "    worksheet = workbook.add_worksheet(worksheet_name);\n",
    "    print('Processing images for class %s' %classes_list[i]);\n",
    "    \n",
    "    # Start from entry 0,0 in worksheet\n",
    "    row = 0;\n",
    "    column = 0;\n",
    "      \n",
    "    for file in glob.glob(path_base+\"/\"+classes_list[i]+\"/*.\"+file_extension):\n",
    "        index_for_filename = file.index('\\\\');\n",
    "        worksheet.write(row, column, file[index_for_filename+1:]); \n",
    "        row += 1; # Increment to get to next row in worksheet.\n",
    "    \n",
    "workbook.close(); "
   ]
  },
  {
   "cell_type": "code",
   "execution_count": 7,
   "metadata": {},
   "outputs": [
    {
     "name": "stdout",
     "output_type": "stream",
     "text": [
      "Excel file containing relevant file names has been created.\n"
     ]
    }
   ],
   "source": [
    "print('Excel file containing relevant file names has been created.')"
   ]
  },
  {
   "cell_type": "code",
   "execution_count": null,
   "metadata": {},
   "outputs": [],
   "source": []
  }
 ],
 "metadata": {
  "kernelspec": {
   "display_name": "Python 3",
   "language": "python",
   "name": "python3"
  },
  "language_info": {
   "codemirror_mode": {
    "name": "ipython",
    "version": 3
   },
   "file_extension": ".py",
   "mimetype": "text/x-python",
   "name": "python",
   "nbconvert_exporter": "python",
   "pygments_lexer": "ipython3",
   "version": "3.5.6"
  }
 },
 "nbformat": 4,
 "nbformat_minor": 4
}
