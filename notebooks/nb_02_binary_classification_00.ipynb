{
 "cells": [
  {
   "cell_type": "markdown",
   "metadata": {},
   "source": [
    "## ENSC 813 Project\n",
    "\n",
    "# Classifying car images in the TCC dataset\n",
    "\n",
    "## Ashiv Hans Dhondea (301400489)\n",
    "\n",
    "### Spring 2020. Simon Fraser University"
   ]
  },
  {
   "cell_type": "markdown",
   "metadata": {},
   "source": [
    "Parameters used:\n",
    "\n",
    "    image_dim = dimension of images resized\n",
    "    \n",
    "    name_brand_1 = name of first brand of car\n",
    "    \n",
    "    name_brand_2 = name of second brand of car"
   ]
  },
  {
   "cell_type": "code",
   "execution_count": 1,
   "metadata": {},
   "outputs": [],
   "source": [
    "# Select two brands for binary classification. Two of [Audi, BMW, Honda, Lexus, Mercedes-Benz, Toyota]\n",
    "name_brand_1 = 'Honda';\n",
    "name_brand_2 = 'Toyota';"
   ]
  },
  {
   "cell_type": "code",
   "execution_count": 2,
   "metadata": {},
   "outputs": [],
   "source": [
    "# Import the necessary packages\n",
    "\n",
    "# numpy for linear algebra, cv2 for image processing\n",
    "#  glob and os to navigate directories\n",
    "import numpy as np    \n",
    "import random\n",
    "import glob\n",
    "import os\n",
    "import sys      \n",
    "\n",
    "# matplotlib for plotting\n",
    "import matplotlib.pyplot as plt\n",
    "from matplotlib import rc\n",
    "rc('font', **{'family': 'serif', 'serif': ['DejaVu Sans']})\n",
    "rc('text', usetex=True)\n",
    "params = {'text.latex.preamble' : [r'\\usepackage{amsmath}', r'\\usepackage{amssymb}']}\n",
    "plt.rcParams.update(params);\n",
    "\n",
    "# pandas for excel sheet wrangling\n",
    "import pandas as pd \n",
    "#import json\n",
    "\n",
    "%matplotlib inline"
   ]
  },
  {
   "cell_type": "code",
   "execution_count": 3,
   "metadata": {},
   "outputs": [
    {
     "data": {
      "application/javascript": [
       "IPython.notebook.kernel.execute(`notebookName = '${IPython.notebook.notebook_name}'`);"
      ],
      "text/plain": [
       "<IPython.core.display.Javascript object>"
      ]
     },
     "metadata": {},
     "output_type": "display_data"
    }
   ],
   "source": [
    "%%javascript\n",
    "IPython.notebook.kernel.execute(`notebookName = '${IPython.notebook.notebook_name}'`);"
   ]
  },
  {
   "cell_type": "code",
   "execution_count": 4,
   "metadata": {},
   "outputs": [
    {
     "name": "stdout",
     "output_type": "stream",
     "text": [
      "The full name is nb_02_binary_classification_00_Honda_Toyota_undersampl\n"
     ]
    }
   ],
   "source": [
    "# Sort out utilities for file naming\n",
    "# for Jupyter notebook:\n",
    "# https://stackoverflow.com/questions/52691468/can-a-jupyter-notebook-find-its-own-filename\n",
    "script_name = notebookName[:-6];\n",
    "\n",
    "# All files created by this script will be named according to this:\n",
    "full_name = script_name+'_'+name_brand_1+'_'+name_brand_2+ \"_undersampl\";\n",
    "print('The full name is %s' %full_name);"
   ]
  },
  {
   "cell_type": "code",
   "execution_count": 5,
   "metadata": {},
   "outputs": [
    {
     "name": "stdout",
     "output_type": "stream",
     "text": [
      "Available classes in the dataset are: \n",
      "['Audi', 'BMW', 'Honda', 'Lexus', 'Mercedes-Benz', 'Toyota']\n"
     ]
    }
   ],
   "source": [
    "path_base = 'TCC_dataset/'\n",
    "print('Available classes in the dataset are: ');\n",
    "classes_list = os.listdir(path_base)\n",
    "print(classes_list);"
   ]
  },
  {
   "cell_type": "code",
   "execution_count": 6,
   "metadata": {},
   "outputs": [
    {
     "name": "stdout",
     "output_type": "stream",
     "text": [
      "Our dataset comprises of 7549 images.\n",
      "The mean number of examples is 1258.167 \n",
      "\n",
      "The standard deviation is 399.019 examples. \n",
      "\n"
     ]
    }
   ],
   "source": [
    "# file type of interest\n",
    "file_extension = \"jpg\";\n",
    "\n",
    "classes_count = np.zeros([len(classes_list)],dtype=int);\n",
    "\n",
    "# count how many examples there are for each class\n",
    "for i in range(len(classes_list)):\n",
    "    classes_count[i] = len(glob.glob1(path_base + classes_list[i]+\"/\",\"*.\"+file_extension));\n",
    "\n",
    "classes_count_total = np.sum(classes_count);\n",
    "print('Our dataset comprises of %d images.' %classes_count_total);\n",
    "\n",
    "# calculate statistics of this dataset\n",
    "classes_prob = classes_count*(1/np.sum(classes_count));\n",
    "classes_mean = np.mean(classes_count);\n",
    "classes_std = np.std(classes_count);\n",
    "\n",
    "print(\"The mean number of examples is %.3f \\n\" %classes_mean);\n",
    "print(\"The standard deviation is %.3f examples. \\n\" %classes_std);"
   ]
  },
  {
   "cell_type": "code",
   "execution_count": 7,
   "metadata": {},
   "outputs": [
    {
     "name": "stdout",
     "output_type": "stream",
     "text": [
      "We will classify images between the following classes:\n",
      "['Honda', 'Toyota']\n",
      "This subset consists of 3059 images.\n"
     ]
    }
   ],
   "source": [
    "# Choose brands for classification\n",
    "chosen_classes = [name_brand_1,name_brand_2];\n",
    "print('We will classify images between the following classes:');\n",
    "print(chosen_classes);\n",
    "\n",
    "# Count number of examples for each class\n",
    "chosen_classes_num = np.zeros([len(chosen_classes)],dtype=int);\n",
    "for i in range(len(chosen_classes)):\n",
    "    chosen_classes_num[i] = classes_count[classes_list.index(chosen_classes[i])];\n",
    "\n",
    "chosen_classes_total = np.sum(chosen_classes_num);\n",
    "print('This subset consists of %d images.' %chosen_classes_total);"
   ]
  },
  {
   "cell_type": "code",
   "execution_count": 8,
   "metadata": {},
   "outputs": [
    {
     "data": {
      "image/png": "[encoded data removed]",
      "text/plain": [
       "<Figure size 432x288 with 1 Axes>"
      ]
     },
     "metadata": {
      "needs_background": "light"
     },
     "output_type": "display_data"
    }
   ],
   "source": [
    "fig = plt.figure(1);\n",
    "pos = np.arange(len(classes_list));\n",
    "\n",
    "color_list = ['limegreen','indianred','teal','darkorange','cornflowerblue','lightsalmon'];\n",
    "\n",
    "for index in pos:\n",
    "    plt.bar(index,classes_count[index],color=color_list[index],label=r\"%.3f\" %(classes_prob[index]));\n",
    "\n",
    "plt.xticks(pos,classes_list);\n",
    "plt.title(r\"\\textbf{Distribution of classes in the} \\textit{TCC dataset}\",fontsize=12)\n",
    "plt.xlabel(r\"\\textbf{Classes}\")\n",
    "plt.ylabel(r\"\\textbf{Count}\")\n",
    "plt.legend(loc='upper left');\n",
    "plt.savefig(full_name+'_full_dataset.png');\n",
    "#plt.savefig(full_name+'full_dataset.pdf');\n",
    "plt.show();"
   ]
  },
  {
   "cell_type": "markdown",
   "metadata": {},
   "source": [
    "The above bar graph shows that the dataset is unbalanced.\n",
    "\n",
    "Ideally, we would prefer to have a balanced dataset, that is, each brand should be present 1/6th of the time.\n",
    "\n",
    "Clearly, some brands, such as *Toyota* with 26.4%, are overrepresented while others are underrepresented, such as *Mercedes-Benz* with 11.1%."
   ]
  },
  {
   "cell_type": "markdown",
   "metadata": {},
   "source": [
    "We balance the dataset by undersampling the overrepresented classes.\n",
    "\n",
    "We randomly choose which particular example from the overrepresented classes will be chosen and which will be excluded from the dataset used for learning."
   ]
  },
  {
   "cell_type": "code",
   "execution_count": 9,
   "metadata": {},
   "outputs": [
    {
     "name": "stdout",
     "output_type": "stream",
     "text": [
      "The least represented class is Honda which has 1067 examples.\n",
      "We will undersample the other class so that we end up with a balanced dataset\n"
     ]
    }
   ],
   "source": [
    "# Find the least represented class and undersample the other class\n",
    "smallest_count_chosen = np.min(chosen_classes_num);\n",
    "smallest_count_chosen_index = np.argmin(chosen_classes_num);\n",
    "smallest_count_chosen_id = chosen_classes[smallest_count_chosen_index];\n",
    "print('The least represented class is %s which has %d examples.' %(smallest_count_chosen_id,smallest_count_chosen));\n",
    "\n",
    "print('We will undersample the other class so that we end up with a balanced dataset')"
   ]
  },
  {
   "cell_type": "code",
   "execution_count": 10,
   "metadata": {},
   "outputs": [
    {
     "name": "stdout",
     "output_type": "stream",
     "text": [
      "Examples per class:\n",
      "1067.0\n"
     ]
    }
   ],
   "source": [
    "# Create list of file names for each class to undersample\n",
    "# Choose randomly in this list to obtain the required number of examples\n",
    "\n",
    "overall_files_list = [];\n",
    "\n",
    "for i in range(0,len(chosen_classes)):\n",
    "    files_list = [];\n",
    "    for file in glob.glob(path_base+\"/\"+chosen_classes[i]+\"/*.\"+file_extension):\n",
    "        index_for_filename = file.index('\\\\');\n",
    "        files_list.append(file[index_for_filename+1:]);\n",
    "    random.shuffle(files_list);\n",
    "    overall_files_list.extend(files_list[:smallest_count_chosen]);\n",
    "            \n",
    "df_list = pd.DataFrame(overall_files_list);\n",
    "df_list.to_excel(full_name+'.xlsx', engine='xlsxwriter')\n",
    "print('Examples per class:')  \n",
    "print(len(overall_files_list)/len(chosen_classes));"
   ]
  },
  {
   "cell_type": "markdown",
   "metadata": {},
   "source": [
    "We have created an Excel worksheet to save the names of all files which will be used for learning.\n",
    "\n",
    "We now verify that we created this worksheet correctly."
   ]
  },
  {
   "cell_type": "code",
   "execution_count": 11,
   "metadata": {},
   "outputs": [],
   "source": [
    "# Load excel sheet and verify the distribution of classes\n",
    "# Read the excel file and pick out the images which are relevant to this script\n",
    "worksheet_name = 'Sheet1';\n",
    "list_file = full_name+'.xlsx';\n",
    "data_frames = pd.read_excel(list_file, sheet_name=worksheet_name);\n",
    "curated_file_list = np.asarray(data_frames.values.tolist());"
   ]
  },
  {
   "cell_type": "code",
   "execution_count": 12,
   "metadata": {},
   "outputs": [
    {
     "name": "stdout",
     "output_type": "stream",
     "text": [
      "For the undersampled dataset:\n",
      "The mean number of examples is 1067.000 \n",
      "The standard deviation is 0.000 examples.\n"
     ]
    }
   ],
   "source": [
    "curated_file_list_cleaned = [None]*len(curated_file_list);\n",
    "curated_file_list_classes = [None]*len(curated_file_list);\n",
    "for k in range(len(curated_file_list)):\n",
    "    filename = str(curated_file_list[k]);\n",
    "    curated_file_list_cleaned[k] = filename[2:-2];\n",
    "    curated_file_list_classes[k] = filename[2:].split(\"_\")[0];\n",
    "\n",
    "# Find unique classes and their frequencies\n",
    "curated_brands, curated_brands_freq = np.unique(curated_file_list_classes,return_counts=True);\n",
    "\n",
    "# Compute stats for the undersampled dataset\n",
    "curated_brands_prob = np.asarray(curated_brands_freq,dtype=np.float64)*(1/np.sum(np.asarray(curated_brands_freq,dtype=np.float64)));\n",
    "curated_brands_mean = np.mean(np.asarray(curated_brands_freq,dtype=np.float64));\n",
    "curated_brands_std = np.std(np.asarray(curated_brands_freq,dtype=np.float64));\n",
    "\n",
    "print('For the undersampled dataset:')\n",
    "print(\"The mean number of examples is %.3f \" %curated_brands_mean);\n",
    "print(\"The standard deviation is %.3f examples.\" %curated_brands_std);"
   ]
  },
  {
   "cell_type": "code",
   "execution_count": 13,
   "metadata": {},
   "outputs": [
    {
     "data": {
      "image/png": "[encoded data removed]",
      "text/plain": [
       "<Figure size 432x288 with 1 Axes>"
      ]
     },
     "metadata": {
      "needs_background": "light"
     },
     "output_type": "display_data"
    }
   ],
   "source": [
    "# Plot the selected dataset (after undersampling)\n",
    "fig = plt.figure(2);\n",
    "pos = np.arange(len(curated_brands));\n",
    "\n",
    "color_list = ['limegreen','indianred','teal','darkorange','cornflowerblue','lightsalmon'];\n",
    "\n",
    "for index in pos:\n",
    "    plt.bar(index,curated_brands_freq[index],color=color_list[index],edgecolor='dimgray',label=r\"%.3f\" %(curated_brands_prob[index]));\n",
    "\n",
    "plt.xticks(pos,curated_brands);\n",
    "plt.title(r\"\\textbf{Distribution of classes in the curated} \\textit{TCC dataset}\",fontsize=12)\n",
    "plt.xlabel(r\"\\textbf{Classes}\")\n",
    "plt.ylabel(r\"\\textbf{Count}\")\n",
    "plt.legend(loc='upper left');\n",
    "plt.savefig(full_name+'_balanced_dataset.png');\n",
    "#plt.savefig(full_name+'balanced_dataset.pdf');\n",
    "plt.show();"
   ]
  },
  {
   "cell_type": "markdown",
   "metadata": {},
   "source": [
    "As can be seen in the above figure, the two brands are equally distributed in the curated dataset.\n",
    "\n",
    "This helps to avoid issues when working on the learning task."
   ]
  },
  {
   "cell_type": "code",
   "execution_count": null,
   "metadata": {},
   "outputs": [],
   "source": []
  }
 ],
 "metadata": {
  "kernelspec": {
   "display_name": "Python 3",
   "language": "python",
   "name": "python3"
  },
  "language_info": {
   "codemirror_mode": {
    "name": "ipython",
    "version": 3
   },
   "file_extension": ".py",
   "mimetype": "text/x-python",
   "name": "python",
   "nbconvert_exporter": "python",
   "pygments_lexer": "ipython3",
   "version": "3.5.6"
  }
 },
 "nbformat": 4,
 "nbformat_minor": 4
}
